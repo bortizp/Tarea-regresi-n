{
 "cells": [
  {
   "cell_type": "markdown",
   "id": "f2329526",
   "metadata": {},
   "source": [
    "# Tarea 2: Regresión Lineal Múltiple (Predecir Precio de Vivienda)\n",
    "\n",
    "Una corredora de propiedades en Santiago quiere predecir el precio (en UF) de departamentos. Tienen los siguientes datos:\n",
    "\n",
    "datos = \n",
    "{'Superficie_m2': [50, 70, 65, 90, 45],\n",
    "'Num_Habitaciones': [1, 2, 2, 3, 1],\n",
    "'Distancia_Metro_km': [0.5, 1.2, 0.8, 0.2, 2.0],\n",
    "'Precio_UF': [2500, 3800, 3500, 5200, 2100]}\n",
    "\n",
    "Construye un modelo de regresión lineal múltiple para predecir el 'Precio_UF' y evalúa su rendimiento."
   ]
  },
  {
   "cell_type": "markdown",
   "id": "1b615656",
   "metadata": {},
   "source": [
    "# Importar, datos y librerias"
   ]
  },
  {
   "cell_type": "code",
   "execution_count": 101,
   "id": "1cf88060",
   "metadata": {},
   "outputs": [],
   "source": [
    "import pandas as pd\n",
    "import numpy as np\n",
    "from sklearn.linear_model import LinearRegression\n",
    "from sklearn.metrics import mean_squared_error, r2_score, mean_absolute_error\n",
    "datos = {'Superficie_m2': [50, 70, 65, 90, 45], 'Num_Habitaciones': [1, 2, 2, 3, 1], 'Distancia_Metro_km': [0.5, 1.2, 0.8, 0.2, 2.0], 'Precio_UF': [2500, 3800, 3500, 5200, 2100]}"
   ]
  },
  {
   "cell_type": "markdown",
   "id": "bcbe2ebc",
   "metadata": {},
   "source": [
    "# Validacion de datos"
   ]
  },
  {
   "cell_type": "code",
   "execution_count": 102,
   "id": "3bdc1a55",
   "metadata": {},
   "outputs": [
    {
     "name": "stdout",
     "output_type": "stream",
     "text": [
      "=== VALIDACIÓN BÁSICA ===\n",
      "✅ Datos cargados: 5 filas\n",
      "✅ Sin valores nulos\n",
      "✅ Todos los valores son numéricos\n",
      "✅ Rangos válidos\n",
      "✅ Suficientes datos para el modelo\n",
      "\n",
      "=== DATOS LISTOS ===\n",
      "   Superficie_m2  Num_Habitaciones  Distancia_Metro_km  Precio_UF\n",
      "0             50                 1                 0.5       2500\n",
      "1             70                 2                 1.2       3800\n",
      "2             65                 2                 0.8       3500\n",
      "3             90                 3                 0.2       5200\n",
      "4             45                 1                 2.0       2100\n"
     ]
    }
   ],
   "source": [
    "# Validación básica de datos\n",
    "try:\n",
    "    # Crear DataFrame\n",
    "    df = pd.DataFrame(datos)\n",
    "    \n",
    "    # Verificaciones básicas\n",
    "    print(\"=== VALIDACIÓN BÁSICA ===\")\n",
    "    \n",
    "    # 1. Verificar que hay datos\n",
    "    if df.empty:\n",
    "        print(\"❌ ERROR: No hay datos\")\n",
    "        raise ValueError(\"DataFrame vacío\")\n",
    "    else:\n",
    "        print(f\"✅ Datos cargados: {len(df)} filas\")\n",
    "    \n",
    "    # 2. Verificar valores nulos\n",
    "    nulos = df.isnull().sum().sum()\n",
    "    if nulos > 0:\n",
    "        print(f\"⚠️ ADVERTENCIA: {nulos} valores nulos\")\n",
    "    else:\n",
    "        print(\"✅ Sin valores nulos\")\n",
    "    \n",
    "    # 3. Verificar que los números son válidos\n",
    "    nums_validos = True\n",
    "    for col in df.columns:\n",
    "        if not pd.api.types.is_numeric_dtype(df[col]):\n",
    "            print(f\"❌ ERROR: {col} no es numérico\")\n",
    "            nums_validos = False\n",
    "    \n",
    "    if nums_validos:\n",
    "        print(\"✅ Todos los valores son numéricos\")\n",
    "    \n",
    "    # 4. Verificar rangos básicos\n",
    "    errores_rango = []\n",
    "    \n",
    "    if (df['Superficie_m2'] <= 0).any():\n",
    "        errores_rango.append(\"❌ ERROR: Superficie debe ser mayor a 0\")\n",
    "    \n",
    "    if (df['Num_Habitaciones'] <= 0).any():\n",
    "        errores_rango.append(\"❌ ERROR: Habitaciones debe ser mayor a 0\")\n",
    "        \n",
    "    if (df['Distancia_Metro_km'] < 0).any():\n",
    "        errores_rango.append(\"❌ ERROR: Distancia no puede ser negativa\")\n",
    "    \n",
    "    if (df['Precio_UF'] <= 0).any():\n",
    "        errores_rango.append(\"❌ ERROR: Precio debe ser mayor a 0\")\n",
    "    \n",
    "    if errores_rango:\n",
    "        for error in errores_rango:\n",
    "            print(error)\n",
    "    else:\n",
    "        print(\"✅ Rangos válidos\")\n",
    "    \n",
    "    # 5. Verificar que tenemos suficientes datos para el modelo\n",
    "    if len(df) < 3:\n",
    "        print(\"⚠️ ADVERTENCIA: Pocos datos para un modelo confiable\")\n",
    "    else:\n",
    "        print(\"✅ Suficientes datos para el modelo\")\n",
    "    \n",
    "    print(\"\\n=== DATOS LISTOS ===\")\n",
    "    print(df)\n",
    "    \n",
    "except Exception as e:\n",
    "    print(f\"❌ ERROR CRÍTICO: {e}\")\n",
    "    print(\"No se puede continuar con el análisis\")"
   ]
  },
  {
   "cell_type": "markdown",
   "id": "bdc94341",
   "metadata": {},
   "source": [
    "# Sacando datos"
   ]
  },
  {
   "cell_type": "code",
   "execution_count": 103,
   "id": "e1e9edaf",
   "metadata": {},
   "outputs": [
    {
     "name": "stdout",
     "output_type": "stream",
     "text": [
      "=== ENTRENANDO MODELO ===\n",
      "Variables predictoras: ['Superficie_m2', 'Num_Habitaciones', 'Distancia_Metro_km']\n",
      "Variable objetivo: Precio_UF\n",
      "✅ Modelo entrenado exitosamente\n"
     ]
    }
   ],
   "source": [
    "# Entrenamiento del modelo con manejo de errores\n",
    "try:\n",
    "    # Preparar variables X (features) e y (target)\n",
    "    X = df[['Superficie_m2', 'Num_Habitaciones', 'Distancia_Metro_km']]\n",
    "    y = df['Precio_UF']\n",
    "    \n",
    "    print(\"=== ENTRENANDO MODELO ===\")\n",
    "    print(f\"Variables predictoras: {list(X.columns)}\")\n",
    "    print(f\"Variable objetivo: {y.name}\")\n",
    "    \n",
    "    # Crear y entrenar modelo\n",
    "    model = LinearRegression()\n",
    "    model.fit(X, y)\n",
    "    \n",
    "    # Hacer predicciones\n",
    "    predicciones = model.predict(X).round(1)\n",
    "    \n",
    "    # Verificar que las predicciones son válidas\n",
    "    if np.isnan(predicciones).any():\n",
    "        raise ValueError(\"El modelo produjo predicciones NaN\")\n",
    "    \n",
    "    # Calcular métricas\n",
    "    rmse = np.sqrt(mean_squared_error(y, predicciones))\n",
    "    r2 = r2_score(y, predicciones)\n",
    "    mae = mean_absolute_error(y, predicciones)\n",
    "    \n",
    "    print(\"✅ Modelo entrenado exitosamente\")\n",
    "    \n",
    "except Exception as e:\n",
    "    print(f\"❌ ERROR en entrenamiento: {e}\")\n",
    "    print(\"Verificar que los datos estén correctos\")"
   ]
  },
  {
   "cell_type": "markdown",
   "id": "e28b076d",
   "metadata": {},
   "source": [
    "# Imprimiendo resultados de datos"
   ]
  },
  {
   "cell_type": "code",
   "execution_count": 104,
   "id": "fa95b298",
   "metadata": {},
   "outputs": [
    {
     "name": "stdout",
     "output_type": "stream",
     "text": [
      "Precios actuales vs Predicciones:\n",
      "Actual: 2500 UF, Predicción: 2499.7 UF\n",
      "Actual: 3800 UF, Predicción: 3803.0 UF\n",
      "Actual: 3500 UF, Predicción: 3502.5 UF\n",
      "Actual: 5200 UF, Predicción: 5197.3 UF\n",
      "Actual: 2100 UF, Predicción: 2097.5 UF\n",
      "Coeficientes del modelo:\n",
      "  Superficie_m2: 64.39\n",
      "  Num_Habitaciones: 52.89\n",
      "  Distancia_Metro_km: -53.47\n",
      "Intercepto: -746.10\n",
      "=== EVALUACIÓN DEL MODELO ===\n",
      "R² (coeficiente de determinación): 1.000\n",
      "RMSE (error cuadrático medio): 2.40 UF\n",
      "MAE (error absoluto medio): 2.20 UF\n"
     ]
    }
   ],
   "source": [
    "print(\"Precios actuales vs Predicciones:\")\n",
    "for actual, pred in zip(y, predicciones):\n",
    "    print(f\"Actual: {actual} UF, Predicción: {pred} UF\")\n",
    "\n",
    "print(\"Coeficientes del modelo:\")\n",
    "for feature, coef in zip(X.columns, model.coef_):\n",
    "    print(f\"  {feature}: {coef:.2f}\")\n",
    "print(f\"Intercepto: {model.intercept_:.2f}\")\n",
    "\n",
    "print(\"=== EVALUACIÓN DEL MODELO ===\")\n",
    "print(f\"R² (coeficiente de determinación): {r2:.3f}\")\n",
    "print(f\"RMSE (error cuadrático medio): {rmse:.2f} UF\")\n",
    "print(f\"MAE (error absoluto medio): {mae:.2f} UF\")\n"
   ]
  }
 ],
 "metadata": {
  "kernelspec": {
   "display_name": ".venv",
   "language": "python",
   "name": "python3"
  },
  "language_info": {
   "codemirror_mode": {
    "name": "ipython",
    "version": 3
   },
   "file_extension": ".py",
   "mimetype": "text/x-python",
   "name": "python",
   "nbconvert_exporter": "python",
   "pygments_lexer": "ipython3",
   "version": "3.13.3"
  }
 },
 "nbformat": 4,
 "nbformat_minor": 5
}
